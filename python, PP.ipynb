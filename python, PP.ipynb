{
 "cells": [
  {
   "cell_type": "markdown",
   "metadata": {},
   "source": [
    "Data Types And Operators\n",
    "Welcome to this lesson on Data Types and Operators! You'll learn about:\n",
    "\n",
    "Data Types: Integers, Floats, Booleans, Strings\n",
    "Operators: Arithmetic, Assignment, Comparison, Logical\n",
    "Built-In Functions, Type Conversion\n",
    "Whitespace and Style Guidelines"
   ]
  },
  {
   "cell_type": "code",
   "execution_count": null,
   "metadata": {},
   "outputs": [],
   "source": [
    "#Data Types: Integers, Floats, Booleans, Strings\n",
    "1\n",
    "1.08\n",
    "True\n",
    "\"Farnaz\""
   ]
  },
  {
   "cell_type": "code",
   "execution_count": null,
   "metadata": {},
   "outputs": [],
   "source": [
    "#Operators:\n",
    "1+2"
   ]
  },
  {
   "cell_type": "code",
   "execution_count": null,
   "metadata": {},
   "outputs": [],
   "source": [
    "#Built-In Functions\n",
    "Print(1+2)"
   ]
  },
  {
   "cell_type": "code",
   "execution_count": 2,
   "metadata": {},
   "outputs": [
    {
     "name": "stdout",
     "output_type": "stream",
     "text": [
      "<class 'int'>\n",
      "<class 'str'>\n"
     ]
    }
   ],
   "source": [
    "print(type(1))\n",
    "print(type(\"f\"))"
   ]
  },
  {
   "cell_type": "code",
   "execution_count": null,
   "metadata": {},
   "outputs": [],
   "source": [
    "#type conversation\n",
    "#\"2\", better to have 2 as string\n",
    "x = int(\"2\")\n",
    "print(type(x))"
   ]
  },
  {
   "cell_type": "code",
   "execution_count": null,
   "metadata": {},
   "outputs": [],
   "source": [
    "#String Methods\n",
    "len(\"this\")\n",
    "type(12)\n",
    "print(\"Hello world\")\n",
    "len(\"this\")\n",
    "type(12)\n",
    "\"Hello world\".lower()\n",
    "\"Hello world\".count('o')"
   ]
  },
  {
   "cell_type": "code",
   "execution_count": null,
   "metadata": {},
   "outputs": [],
   "source": [
    "#One important string method: format()\n",
    "print(\"Farnaz has {} balloons\".format(27))\n",
    "farnaz_string = \"Farnaz loves {} and {}\"\n",
    "print(farnaz_string.format(\"math\",\"statistics\"))"
   ]
  },
  {
   "cell_type": "code",
   "execution_count": 4,
   "metadata": {},
   "outputs": [
    {
     "data": {
      "text/plain": [
       "['The', 'cow', 'jumped', 'over', 'the', 'moon.']"
      ]
     },
     "execution_count": 4,
     "metadata": {},
     "output_type": "execute_result"
    }
   ],
   "source": [
    "#.split()\n",
    "new_str = \"The cow jumped over the moon.\"\n",
    "new_str.split()"
   ]
  },
  {
   "cell_type": "markdown",
   "metadata": {},
   "source": [
    "Data structures: \n",
    "1)Lists, \n",
    "2)Tuples, \n",
    "3)sets, \n",
    "4)Dictionaries\n"
   ]
  },
  {
   "cell_type": "markdown",
   "metadata": {},
   "source": [
    "Lists!\n",
    "Data structures are containers that organize and group data types together in different ways. A list is one of the most common and basic data structures in Python.\n",
    "You saw here that you can create a list with square brackets. Lists can contain any mix and match of the data types you have seen so far."
   ]
  },
  {
   "cell_type": "code",
   "execution_count": null,
   "metadata": {},
   "outputs": [],
   "source": [
    "list_of_random_things = [1, 3.4, 'a string', True]\n",
    "print(list_of_random_things[2])\n",
    "print(list_of_random_things[-1])"
   ]
  },
  {
   "cell_type": "code",
   "execution_count": null,
   "metadata": {},
   "outputs": [],
   "source": [
    "#Slice and Dice with Lists\n",
    "list_of_random_things[1:2]\n",
    "list_of_random_things[:2]\n",
    "list_of_random_things[1:]"
   ]
  },
  {
   "cell_type": "markdown",
   "metadata": {},
   "source": [
    "#Mutability and Order\n",
    "Mutability is about whether or not we can change an object once it has been created. \n",
    "If an object (like a list or string) can be changed (like a list can), then it is called mutable. \n",
    "However, if an object cannot be changed with creating a completely new object (like strings), then the object is considered immutable.\n",
    "\n",
    "Order is about whether the position of an element in the object can be used to access the element. Both strings and lists are ordered. We can use the order to access parts of a list and string."
   ]
  },
  {
   "cell_type": "code",
   "execution_count": null,
   "metadata": {},
   "outputs": [],
   "source": [
    "#lists are mutable\n",
    "my_lst = [1, 2, 3, 4, 5]\n",
    "my_lst[0] = 'one'\n",
    "print(my_lst)\n"
   ]
  },
  {
   "cell_type": "code",
   "execution_count": null,
   "metadata": {},
   "outputs": [],
   "source": [
    "#strings are immutable\n",
    "greeting = \"Hello there\"\n",
    "greeting[0] = 'M'"
   ]
  },
  {
   "cell_type": "code",
   "execution_count": null,
   "metadata": {},
   "outputs": [],
   "source": [
    "#Quiz: List Indexing\n",
    "month = 8\n",
    "days_in_month = [31,28,31,30,31,30,31,31,30,31,30,31]\n",
    "\n",
    "# use list indexing to determine the number of days in month\n"
   ]
  },
  {
   "cell_type": "code",
   "execution_count": null,
   "metadata": {},
   "outputs": [],
   "source": [
    "num_days = days_in_month[(8-1)]\n",
    "print(num_days)"
   ]
  },
  {
   "cell_type": "markdown",
   "metadata": {},
   "source": [
    "#lists methods\n",
    "Useful Functions for Lists I\n",
    "len() returns how many elements are in a list.\n",
    "max() returns the greatest element of the list. How the greatest element is determined depends on what type objects are in the list. The maximum element in a list of numbers is the largest number. The maximum elements in a list of strings is element that would occur last if the list were sorted alphabetically. This works because the the max function is defined in terms of the greater than comparison operator. The max function is undefined for lists that contain elements from different, incomparable types.\n",
    "min() returns the smallest element in a list. min is the opposite of max, which returns the largest element in a list.\n",
    "sorted() returns a copy of a list in order from smallest to largest, leaving the list unchanged."
   ]
  },
  {
   "cell_type": "markdown",
   "metadata": {},
   "source": [
    "Useful Functions for Lists II\n",
    "join method\n",
    "Join is a string method that takes a list of strings as an argument, and returns a string consisting of the list elements joined by a separator string.\n",
    "\n",
    "append method\n",
    "A helpful method called append adds an element to the end of a list."
   ]
  },
  {
   "cell_type": "code",
   "execution_count": null,
   "metadata": {},
   "outputs": [],
   "source": [
    "new_str = \"\\n\".join([\"fore\", \"aft\", \"starboard\", \"port\"])\n",
    "print(new_str)\n"
   ]
  },
  {
   "cell_type": "code",
   "execution_count": null,
   "metadata": {},
   "outputs": [],
   "source": [
    "name = \"-\".join([\"García\", \"O'Kelly\"])\n",
    "print(name)"
   ]
  },
  {
   "cell_type": "code",
   "execution_count": null,
   "metadata": {},
   "outputs": [],
   "source": [
    "letters = ['a', 'b', 'c', 'd']\n",
    "letters.append('z')\n",
    "print(letters)"
   ]
  },
  {
   "cell_type": "markdown",
   "metadata": {},
   "source": [
    "Tuples\n",
    "A tuple is another useful container. It's a data type for immutable ordered sequences of elements. They are often used to store related pieces of information. Consider this example involving latitude and longitude:\n",
    "\n",
    "location = (13.4125, 103.866667)\n",
    "print(\"Latitude:\", location[0])\n",
    "print(\"Longitude:\", location[1])"
   ]
  },
  {
   "cell_type": "markdown",
   "metadata": {},
   "source": [
    "Sets\n",
    "A set is a data type for mutable unordered collections of unique elements. One application of a set is to quickly remove duplicates from a list."
   ]
  },
  {
   "cell_type": "code",
   "execution_count": null,
   "metadata": {},
   "outputs": [],
   "source": [
    "fruit = {\"apple\", \"banana\", \"orange\", \"grapefruit\"}  # define a set\n",
    "\n",
    "print(\"watermelon\" in fruit)  # check for element\n",
    "\n",
    "fruit.add(\"watermelon\")  # add an element\n",
    "print(fruit)\n",
    "\n",
    "print(fruit.pop())  # remove a random element\n",
    "print(fruit)"
   ]
  },
  {
   "cell_type": "markdown",
   "metadata": {},
   "source": [
    "Dictionaries\n",
    "A dictionary is a mutable data type that stores mappings of unique keys to values. Here's a dictionary that stores elements and their atomic numbers.\n",
    "\n",
    "https://classroom.udacity.com/courses/ud1110/lessons/bedb9b4a-b551-48bc-949a-b130e640d299/concepts/47a34480-110c-4cfa-be87-73278fc1a1e3"
   ]
  },
  {
   "cell_type": "code",
   "execution_count": null,
   "metadata": {},
   "outputs": [],
   "source": [
    "elements = {\"hydrogen\": 1, \"helium\": 2, \"carbon\": 6}\n",
    "print(elements[\"helium\"])  # print the value mapped to \"helium\"\n",
    "elements[\"lithium\"] = 3  # insert \"lithium\" with a value of 3 into the dictionary"
   ]
  },
  {
   "cell_type": "code",
   "execution_count": null,
   "metadata": {},
   "outputs": [],
   "source": [
    "print(\"carbon\" in elements)\n",
    "print(elements.get(\"dilithium\"))"
   ]
  },
  {
   "cell_type": "markdown",
   "metadata": {},
   "source": [
    "Control Flow:\n",
    "\n",
    "Control flow is the sequence in which your code is run. Here, we'll learn about several tools in Python we can use to affect our code's control flow:\n",
    "\n",
    "Conditional Statements\n",
    "Boolean Expressions\n",
    "For and While Loops\n",
    "Break and Continue\n",
    "Zip and Enumerate\n",
    "List Comprehensions"
   ]
  },
  {
   "cell_type": "code",
   "execution_count": null,
   "metadata": {},
   "outputs": [],
   "source": [
    "#For and While Loops\n",
    "names = [\"Joey Tribbiani\", \"Monica Geller\", \"Chandler Bing\", \"Phoebe Buffay\"]\n",
    "new_names = []\n",
    "for name in names:\n",
    "    name = name.lower().replace(\" \", \"_\")\n",
    "    new_names.append(name)\n",
    "\n",
    "print(new_names)"
   ]
  },
  {
   "cell_type": "code",
   "execution_count": 100,
   "metadata": {},
   "outputs": [
    {
     "name": "stdout",
     "output_type": "stream",
     "text": [
      "['joey_tribbiani', 'monica_geller', 'chandler_bing', 'phoebe_buffay']\n"
     ]
    }
   ],
   "source": [
    "#List Comprehensions\n",
    "names = [\"Joey Tribbiani\", \"Monica Geller\", \"Chandler Bing\", \"Phoebe Buffay\"]\n",
    "\n",
    "names=[name.lower().replace(\" \", \"_\") for name in names]\n",
    "\n",
    "print(names)"
   ]
  },
  {
   "cell_type": "code",
   "execution_count": null,
   "metadata": {},
   "outputs": [],
   "source": [
    "#functions\n",
    "\n",
    "def population_density(population, land_area):\n",
    "    return population/land_area\n",
    "\n",
    "# test cases for your function\n",
    "test1 = population_density(10, 1)\n",
    "expected_result1 = 10\n",
    "print(\"expected result: {}, actual result: {}\".format(expected_result1, test1))\n",
    "\n",
    "test2 = population_density(864816, 121.4)\n",
    "expected_result2 = 7123.6902801\n",
    "print(\"expected result: {}, actual result: {}\".format(expected_result2, test2))"
   ]
  },
  {
   "cell_type": "markdown",
   "metadata": {},
   "source": [
    "Quiz: readable_timedelta\n",
    "Write a function named readable_timedelta. The function should take one argument, an integer days, and return a string that says how many weeks and days that is. For example, calling the function and printing the result like this:"
   ]
  },
  {
   "cell_type": "code",
   "execution_count": null,
   "metadata": {},
   "outputs": [],
   "source": [
    "#quiz:\n",
    "    \n",
    "def readable_timedelta(days):\n",
    "    # use integer division to get the number of weeks\n",
    "    weeks = days // 7\n",
    "    # use % to get the number of days that remain\n",
    "    remainder = days % 7\n",
    "    return \"{} week(s) and {} day(s).\".format(weeks, remainder)\n",
    "\n",
    "# test your function\n",
    "print(readable_timedelta(10))"
   ]
  },
  {
   "cell_type": "code",
   "execution_count": null,
   "metadata": {},
   "outputs": [],
   "source": [
    "#quiz:\n",
    "\n",
    "#Write a Python function to sum all the numbers in a list.\n",
    "quiz_list = [8, 2, 3, 0, 7]\n",
    "#answer:\n",
    "\n",
    "def sum(numbers):\n",
    "    total = 0\n",
    "    for x in numbers:\n",
    "        total += x\n",
    "    return total\n",
    "\n",
    "print(sum(quiz_list))"
   ]
  },
  {
   "cell_type": "code",
   "execution_count": null,
   "metadata": {},
   "outputs": [],
   "source": [
    "#quiz:\n",
    "#Write a Python program that accepts a hyphen-separated sequence of words as input and prints the words in a hyphen-separated sequence after sorting them alphabetically. Go to the editor\n",
    "#Sample Items : green-red-yellow-black-white\n",
    "#Expected Result : black-green-red-white-yellow\n",
    "\n",
    "#answer:\n",
    "\n",
    "items=[n for n in input().split('-')]\n",
    "items.sort()\n",
    "print('-'.join(items))\n"
   ]
  },
  {
   "cell_type": "markdown",
   "metadata": {},
   "source": [
    "pyhton for data analyses\n",
    "pandas packages,\n"
   ]
  },
  {
   "cell_type": "code",
   "execution_count": 1,
   "metadata": {},
   "outputs": [],
   "source": [
    "import pandas as pd"
   ]
  },
  {
   "cell_type": "code",
   "execution_count": 133,
   "metadata": {},
   "outputs": [],
   "source": [
    "#df stands for dataframe\n",
    "df = pd.read_csv('final_PINK.csv', sep=';')"
   ]
  },
  {
   "cell_type": "code",
   "execution_count": 67,
   "metadata": {},
   "outputs": [
    {
     "data": {
      "text/html": [
       "<div>\n",
       "<style scoped>\n",
       "    .dataframe tbody tr th:only-of-type {\n",
       "        vertical-align: middle;\n",
       "    }\n",
       "\n",
       "    .dataframe tbody tr th {\n",
       "        vertical-align: top;\n",
       "    }\n",
       "\n",
       "    .dataframe thead th {\n",
       "        text-align: right;\n",
       "    }\n",
       "</style>\n",
       "<table border=\"1\" class=\"dataframe\">\n",
       "  <thead>\n",
       "    <tr style=\"text-align: right;\">\n",
       "      <th></th>\n",
       "      <th>country_id</th>\n",
       "      <th>traffic_source_level_1</th>\n",
       "      <th>timestamp_month</th>\n",
       "      <th>SEK_IN_FOOD</th>\n",
       "      <th>SEK_IN_DRINKS</th>\n",
       "      <th>SEK_IN_SNACKS</th>\n",
       "    </tr>\n",
       "  </thead>\n",
       "  <tbody>\n",
       "    <tr>\n",
       "      <th>0</th>\n",
       "      <td>BR</td>\n",
       "      <td>direct</td>\n",
       "      <td>2019-01-01</td>\n",
       "      <td>306,0</td>\n",
       "      <td>274.816131830009</td>\n",
       "      <td>125.433501</td>\n",
       "    </tr>\n",
       "    <tr>\n",
       "      <th>1</th>\n",
       "      <td>BR</td>\n",
       "      <td>direct</td>\n",
       "      <td>2019-02-01</td>\n",
       "      <td>158,0</td>\n",
       "      <td>141.898525585429</td>\n",
       "      <td>110.136732</td>\n",
       "    </tr>\n",
       "    <tr>\n",
       "      <th>2</th>\n",
       "      <td>BR</td>\n",
       "      <td>direct</td>\n",
       "      <td>2019-03-01</td>\n",
       "      <td>169,0</td>\n",
       "      <td>151.777536860364</td>\n",
       "      <td>127.832416</td>\n",
       "    </tr>\n",
       "    <tr>\n",
       "      <th>3</th>\n",
       "      <td>BR</td>\n",
       "      <td>direct</td>\n",
       "      <td>2019-04-01</td>\n",
       "      <td>193,0</td>\n",
       "      <td>173.331743278404</td>\n",
       "      <td>112.539000</td>\n",
       "    </tr>\n",
       "    <tr>\n",
       "      <th>4</th>\n",
       "      <td>BR</td>\n",
       "      <td>direct</td>\n",
       "      <td>2019-05-01</td>\n",
       "      <td>212,0</td>\n",
       "      <td>190.395490026019</td>\n",
       "      <td>117.726825</td>\n",
       "    </tr>\n",
       "  </tbody>\n",
       "</table>\n",
       "</div>"
      ],
      "text/plain": [
       "  country_id traffic_source_level_1 timestamp_month SEK_IN_FOOD  \\\n",
       "0         BR                 direct      2019-01-01       306,0   \n",
       "1         BR                 direct      2019-02-01       158,0   \n",
       "2         BR                 direct      2019-03-01       169,0   \n",
       "3         BR                 direct      2019-04-01       193,0   \n",
       "4         BR                 direct      2019-05-01       212,0   \n",
       "\n",
       "      SEK_IN_DRINKS  SEK_IN_SNACKS  \n",
       "0  274.816131830009     125.433501  \n",
       "1  141.898525585429     110.136732  \n",
       "2  151.777536860364     127.832416  \n",
       "3  173.331743278404     112.539000  \n",
       "4  190.395490026019     117.726825  "
      ]
     },
     "execution_count": 67,
     "metadata": {},
     "output_type": "execute_result"
    }
   ],
   "source": [
    "df.head()"
   ]
  },
  {
   "cell_type": "code",
   "execution_count": 68,
   "metadata": {},
   "outputs": [
    {
     "data": {
      "text/html": [
       "<div>\n",
       "<style scoped>\n",
       "    .dataframe tbody tr th:only-of-type {\n",
       "        vertical-align: middle;\n",
       "    }\n",
       "\n",
       "    .dataframe tbody tr th {\n",
       "        vertical-align: top;\n",
       "    }\n",
       "\n",
       "    .dataframe thead th {\n",
       "        text-align: right;\n",
       "    }\n",
       "</style>\n",
       "<table border=\"1\" class=\"dataframe\">\n",
       "  <thead>\n",
       "    <tr style=\"text-align: right;\">\n",
       "      <th></th>\n",
       "      <th>country_id</th>\n",
       "      <th>traffic_source_level_1</th>\n",
       "      <th>timestamp_month</th>\n",
       "      <th>SEK_IN_FOOD</th>\n",
       "      <th>SEK_IN_DRINKS</th>\n",
       "      <th>SEK_IN_SNACKS</th>\n",
       "    </tr>\n",
       "  </thead>\n",
       "  <tbody>\n",
       "    <tr>\n",
       "      <th>823</th>\n",
       "      <td>SE</td>\n",
       "      <td>partnerships</td>\n",
       "      <td>2018-08-01 00:00:00.000000</td>\n",
       "      <td>8.91</td>\n",
       "      <td>NaN</td>\n",
       "      <td>4.37</td>\n",
       "    </tr>\n",
       "    <tr>\n",
       "      <th>824</th>\n",
       "      <td>SE</td>\n",
       "      <td>partnerships</td>\n",
       "      <td>2018-09-01 00:00:00.000000</td>\n",
       "      <td>7.12</td>\n",
       "      <td>NaN</td>\n",
       "      <td>3.76</td>\n",
       "    </tr>\n",
       "    <tr>\n",
       "      <th>825</th>\n",
       "      <td>SE</td>\n",
       "      <td>partnerships</td>\n",
       "      <td>2018-10-01 00:00:00.000000</td>\n",
       "      <td>2.51</td>\n",
       "      <td>NaN</td>\n",
       "      <td>2.90</td>\n",
       "    </tr>\n",
       "    <tr>\n",
       "      <th>826</th>\n",
       "      <td>SE</td>\n",
       "      <td>partnerships</td>\n",
       "      <td>2018-11-01 00:00:00.000000</td>\n",
       "      <td>3.34</td>\n",
       "      <td>NaN</td>\n",
       "      <td>2.49</td>\n",
       "    </tr>\n",
       "    <tr>\n",
       "      <th>827</th>\n",
       "      <td>SE</td>\n",
       "      <td>partnerships</td>\n",
       "      <td>2018-12-01 00:00:00.000000</td>\n",
       "      <td>1.67</td>\n",
       "      <td>NaN</td>\n",
       "      <td>2.02</td>\n",
       "    </tr>\n",
       "  </tbody>\n",
       "</table>\n",
       "</div>"
      ],
      "text/plain": [
       "    country_id traffic_source_level_1             timestamp_month SEK_IN_FOOD  \\\n",
       "823         SE           partnerships  2018-08-01 00:00:00.000000        8.91   \n",
       "824         SE           partnerships  2018-09-01 00:00:00.000000        7.12   \n",
       "825         SE           partnerships  2018-10-01 00:00:00.000000        2.51   \n",
       "826         SE           partnerships  2018-11-01 00:00:00.000000        3.34   \n",
       "827         SE           partnerships  2018-12-01 00:00:00.000000        1.67   \n",
       "\n",
       "    SEK_IN_DRINKS  SEK_IN_SNACKS  \n",
       "823           NaN           4.37  \n",
       "824           NaN           3.76  \n",
       "825           NaN           2.90  \n",
       "826           NaN           2.49  \n",
       "827           NaN           2.02  "
      ]
     },
     "execution_count": 68,
     "metadata": {},
     "output_type": "execute_result"
    }
   ],
   "source": [
    "df.tail()"
   ]
  },
  {
   "cell_type": "code",
   "execution_count": 69,
   "metadata": {},
   "outputs": [
    {
     "data": {
      "text/plain": [
       "Index(['country_id', 'traffic_source_level_1', 'timestamp_month',\n",
       "       'SEK_IN_FOOD', 'SEK_IN_DRINKS', 'SEK_IN_SNACKS'],\n",
       "      dtype='object')"
      ]
     },
     "execution_count": 69,
     "metadata": {},
     "output_type": "execute_result"
    }
   ],
   "source": [
    "df.columns"
   ]
  },
  {
   "cell_type": "code",
   "execution_count": 84,
   "metadata": {},
   "outputs": [
    {
     "data": {
      "text/plain": [
       "numpy.float64"
      ]
     },
     "execution_count": 84,
     "metadata": {},
     "output_type": "execute_result"
    }
   ],
   "source": [
    "type(df['SEK_IN_SNACKS'][1])"
   ]
  },
  {
   "cell_type": "code",
   "execution_count": 71,
   "metadata": {},
   "outputs": [
    {
     "data": {
      "text/plain": [
       "'direct'"
      ]
     },
     "execution_count": 71,
     "metadata": {},
     "output_type": "execute_result"
    }
   ],
   "source": [
    "df['traffic_source_level_1'][10]"
   ]
  },
  {
   "cell_type": "code",
   "execution_count": 74,
   "metadata": {},
   "outputs": [
    {
     "data": {
      "text/html": [
       "<div>\n",
       "<style scoped>\n",
       "    .dataframe tbody tr th:only-of-type {\n",
       "        vertical-align: middle;\n",
       "    }\n",
       "\n",
       "    .dataframe tbody tr th {\n",
       "        vertical-align: top;\n",
       "    }\n",
       "\n",
       "    .dataframe thead th {\n",
       "        text-align: right;\n",
       "    }\n",
       "</style>\n",
       "<table border=\"1\" class=\"dataframe\">\n",
       "  <thead>\n",
       "    <tr style=\"text-align: right;\">\n",
       "      <th></th>\n",
       "      <th>country_id</th>\n",
       "      <th>traffic_source_level_1</th>\n",
       "      <th>SEK_IN_DRINKS</th>\n",
       "    </tr>\n",
       "  </thead>\n",
       "  <tbody>\n",
       "    <tr>\n",
       "      <th>0</th>\n",
       "      <td>BR</td>\n",
       "      <td>direct</td>\n",
       "      <td>274.816131830009</td>\n",
       "    </tr>\n",
       "    <tr>\n",
       "      <th>1</th>\n",
       "      <td>BR</td>\n",
       "      <td>direct</td>\n",
       "      <td>141.898525585429</td>\n",
       "    </tr>\n",
       "    <tr>\n",
       "      <th>2</th>\n",
       "      <td>BR</td>\n",
       "      <td>direct</td>\n",
       "      <td>151.777536860364</td>\n",
       "    </tr>\n",
       "    <tr>\n",
       "      <th>3</th>\n",
       "      <td>BR</td>\n",
       "      <td>direct</td>\n",
       "      <td>173.331743278404</td>\n",
       "    </tr>\n",
       "    <tr>\n",
       "      <th>4</th>\n",
       "      <td>BR</td>\n",
       "      <td>direct</td>\n",
       "      <td>190.395490026019</td>\n",
       "    </tr>\n",
       "  </tbody>\n",
       "</table>\n",
       "</div>"
      ],
      "text/plain": [
       "  country_id traffic_source_level_1     SEK_IN_DRINKS\n",
       "0         BR                 direct  274.816131830009\n",
       "1         BR                 direct  141.898525585429\n",
       "2         BR                 direct  151.777536860364\n",
       "3         BR                 direct  173.331743278404\n",
       "4         BR                 direct  190.395490026019"
      ]
     },
     "execution_count": 74,
     "metadata": {},
     "output_type": "execute_result"
    }
   ],
   "source": [
    "df[['country_id','traffic_source_level_1','SEK_IN_DRINKS']].head()"
   ]
  },
  {
   "cell_type": "markdown",
   "metadata": {},
   "source": [
    "quiz to solve together:\n",
    "\n",
    "I need to get the sum of SEK_IN_SNACKS group by countries and 'traffic_source_level_1'\n",
    "I need to have countries, and then channels and then the sum of kycs"
   ]
  },
  {
   "cell_type": "code",
   "execution_count": 79,
   "metadata": {},
   "outputs": [
    {
     "data": {
      "text/plain": [
       "country_id  traffic_source_level_1\n",
       "BR          direct                      1556.656190\n",
       "            online                     17402.825960\n",
       "            partnerships                9703.091926\n",
       "DE          direct                      2032.695374\n",
       "            online                     14323.325836\n",
       "            partnerships                 315.591894\n",
       "DK          direct                       218.005770\n",
       "            online                      5979.793916\n",
       "            partnerships                  28.122947\n",
       "ES          direct                        19.908277\n",
       "            online                      1379.825989\n",
       "            partnerships                  71.083071\n",
       "FI          direct                       171.720163\n",
       "            online                     18436.248791\n",
       "            partnerships                  46.030429\n",
       "FR          direct                       651.227215\n",
       "            online                     17621.493380\n",
       "            partnerships                 400.939757\n",
       "GB          direct                      3025.081503\n",
       "            online                    107969.164650\n",
       "            partnerships                1912.917632\n",
       "IT          direct                        33.587649\n",
       "            online                       911.936708\n",
       "            partnerships                  40.402996\n",
       "MX          direct                      5954.573933\n",
       "            online                     53071.656297\n",
       "            partnerships               19541.028566\n",
       "NL          direct                       974.333273\n",
       "            online                     28315.065494\n",
       "            partnerships                 745.968429\n",
       "NO          direct                       398.557319\n",
       "            online                     20844.366244\n",
       "            partnerships                 644.696448\n",
       "SE          direct                      1033.822702\n",
       "            online                     18319.435441\n",
       "            partnerships                  79.607337\n",
       "Name: SEK_IN_SNACKS, dtype: float64"
      ]
     },
     "execution_count": 79,
     "metadata": {},
     "output_type": "execute_result"
    }
   ],
   "source": [
    "df[['country_id','timestamp_month','traffic_source_level_1','SEK_IN_SNACKS']].groupby(['country_id','traffic_source_level_1' ])['SEK_IN_SNACKS'].sum()"
   ]
  },
  {
   "cell_type": "markdown",
   "metadata": {},
   "source": [
    "now, same excercise with SEK_IN_FOOD.\n",
    "what is odd about it? do you knwo why?\n",
    "lets try the type:\n",
    "\n",
    "type(df['SEK_IN_FOOD'][0])\n",
    "it is stgring, but we wanted it to be integer or float. a sort of number.\n",
    "so now what?\n"
   ]
  },
  {
   "cell_type": "code",
   "execution_count": 135,
   "metadata": {},
   "outputs": [
    {
     "data": {
      "text/plain": [
       "0        306,0\n",
       "1        158,0\n",
       "2        169,0\n",
       "3        193,0\n",
       "4        212,0\n",
       "5        211,0\n",
       "6        183,0\n",
       "7        204,0\n",
       "8        263,0\n",
       "9        307,0\n",
       "10       299,0\n",
       "11       271,0\n",
       "12     10341,0\n",
       "13      7988,0\n",
       "14      7212,0\n",
       "15      8879,0\n",
       "16      9873,0\n",
       "17     10083,0\n",
       "18     10577,0\n",
       "19     11148,0\n",
       "20      9823,0\n",
       "21     11659,0\n",
       "22     10864,0\n",
       "23      9506,0\n",
       "24      1631,0\n",
       "25      1379,0\n",
       "26      1424,0\n",
       "27      1177,0\n",
       "28      1189,0\n",
       "29      1359,0\n",
       "        ...   \n",
       "798      15.93\n",
       "799      24.63\n",
       "800      52.16\n",
       "801      28.58\n",
       "802      49.98\n",
       "803      16.66\n",
       "804    2011.11\n",
       "805    1957.93\n",
       "806    2695.68\n",
       "807    1985.65\n",
       "808    2318.73\n",
       "809    2147.34\n",
       "810    1805.40\n",
       "811    2193.33\n",
       "812    2166.37\n",
       "813    2088.62\n",
       "814    2600.47\n",
       "815    1829.13\n",
       "816       5.34\n",
       "817      14.25\n",
       "818      21.38\n",
       "819      10.69\n",
       "820      16.04\n",
       "821       8.91\n",
       "822       3.56\n",
       "823       8.91\n",
       "824       7.12\n",
       "825       2.51\n",
       "826       3.34\n",
       "827       1.67\n",
       "Name: SEK_IN_FOOD, Length: 828, dtype: object"
      ]
     },
     "execution_count": 135,
     "metadata": {},
     "output_type": "execute_result"
    }
   ],
   "source": [
    "df['SEK_IN_FOOD']"
   ]
  },
  {
   "cell_type": "code",
   "execution_count": 136,
   "metadata": {},
   "outputs": [],
   "source": [
    "#pandas.Series.astype\n",
    "df['SEK_IN_FOOD'] = pd.Series(df['SEK_IN_FOOD'], dtype='int32')"
   ]
  },
  {
   "cell_type": "code",
   "execution_count": 143,
   "metadata": {},
   "outputs": [],
   "source": [
    "df['SEK_IN_FOOD']=[df['SEK_IN_FOOD'][i].replace(\",\", \".\") for i in range(len(df['SEK_IN_FOOD']))]"
   ]
  },
  {
   "cell_type": "code",
   "execution_count": 144,
   "metadata": {},
   "outputs": [
    {
     "data": {
      "text/plain": [
       "'306.0'"
      ]
     },
     "execution_count": 144,
     "metadata": {},
     "output_type": "execute_result"
    }
   ],
   "source": [
    "df['SEK_IN_FOOD'][0].replace(\",\", \".\")"
   ]
  },
  {
   "cell_type": "code",
   "execution_count": 145,
   "metadata": {},
   "outputs": [],
   "source": [
    "df['SEK_IN_FOOD'] = df['SEK_IN_FOOD'].astype(float)"
   ]
  },
  {
   "cell_type": "code",
   "execution_count": 146,
   "metadata": {},
   "outputs": [
    {
     "data": {
      "text/plain": [
       "country_id  traffic_source_level_1\n",
       "BR          direct                      2776.00\n",
       "            online                    117953.00\n",
       "            partnerships               18640.00\n",
       "DE          direct                      2865.69\n",
       "            online                     52866.42\n",
       "            partnerships                 666.13\n",
       "DK          direct                       422.16\n",
       "            online                     18471.00\n",
       "            partnerships                  72.06\n",
       "ES          direct                       113.00\n",
       "            online                     10492.12\n",
       "            partnerships                 331.00\n",
       "FI          direct                       323.73\n",
       "            online                     36133.32\n",
       "            partnerships                  91.72\n",
       "FR          direct                      1165.65\n",
       "            online                     71696.35\n",
       "            partnerships                1294.75\n",
       "GB          direct                      4437.21\n",
       "            online                    304162.60\n",
       "            partnerships                3638.31\n",
       "IT          direct                       161.00\n",
       "            online                      4825.91\n",
       "            partnerships                 207.00\n",
       "MX          direct                     10829.06\n",
       "            online                    184724.98\n",
       "            partnerships               36829.87\n",
       "NL          direct                      1589.09\n",
       "            online                     72446.92\n",
       "            partnerships                1161.09\n",
       "NO          direct                       448.73\n",
       "            online                     47189.39\n",
       "            partnerships                1085.06\n",
       "SE          direct                      1110.03\n",
       "            online                     51708.76\n",
       "            partnerships                 185.72\n",
       "Name: SEK_IN_FOOD, dtype: float64"
      ]
     },
     "execution_count": 146,
     "metadata": {},
     "output_type": "execute_result"
    }
   ],
   "source": [
    "df[['country_id','timestamp_month','traffic_source_level_1','SEK_IN_FOOD']].groupby(['country_id','traffic_source_level_1' ])['SEK_IN_FOOD'].sum()"
   ]
  },
  {
   "cell_type": "code",
   "execution_count": null,
   "metadata": {},
   "outputs": [],
   "source": []
  },
  {
   "cell_type": "code",
   "execution_count": null,
   "metadata": {},
   "outputs": [],
   "source": []
  },
  {
   "cell_type": "code",
   "execution_count": null,
   "metadata": {},
   "outputs": [],
   "source": []
  },
  {
   "cell_type": "markdown",
   "metadata": {},
   "source": [
    "#practice\n",
    "verse = \"If you can keep your head when all about you\\n  Are losing theirs and blaming it on you,\\nIf you can trust yourself when all men doubt you,\\n  But make allowance for their doubting too;\\nIf you can wait and not be tired by waiting,\\n  Or being lied about, don’t deal in lies,\\nOr being hated, don’t give way to hating,\\n  And yet don’t look too good, nor talk too wise:\"\n",
    "\n",
    "What is the length of the string variable verse?\n",
    "What is the index of the first occurrence of the word 'and' in verse?\n",
    "What is the index of the last occurrence of the word 'you' in verse?\n",
    "What is the count of occurrences of the word 'you' in the verse?"
   ]
  },
  {
   "cell_type": "code",
   "execution_count": 3,
   "metadata": {},
   "outputs": [
    {
     "name": "stdout",
     "output_type": "stream",
     "text": [
      "Verse has a length of 362 characters.\n",
      "The first occurence of the word 'and' occurs at the 65th index.\n",
      "The last occurence of the word 'you' occurs at the 186th index.\n",
      "The word 'you' occurs 8 times in the verse.\n"
     ]
    }
   ],
   "source": [
    "verse = \"If you can keep your head when all about you\\n  Are losing theirs and blaming it on you,\\nIf you can trust yourself when all men doubt you,\\n  But make allowance for their doubting too;\\nIf you can wait and not be tired by waiting,\\n  Or being lied about, don’t deal in lies,\\nOr being hated, don’t give way to hating,\\n  And yet don’t look too good, nor talk too wise:\"\n",
    "print(\"Verse has a length of {} characters.\".format(len(verse)))\n",
    "print(\"The first occurence of the word 'and' occurs at the {}th index.\".format(verse.find('and')))\n",
    "print(\"The last occurence of the word 'you' occurs at the {}th index.\".format(verse.rfind('you')))\n",
    "print(\"The word 'you' occurs {} times in the verse.\".format(verse.count('you')))"
   ]
  }
 ],
 "metadata": {
  "kernelspec": {
   "display_name": "Python 3",
   "language": "python",
   "name": "python3"
  },
  "language_info": {
   "codemirror_mode": {
    "name": "ipython",
    "version": 3
   },
   "file_extension": ".py",
   "mimetype": "text/x-python",
   "name": "python",
   "nbconvert_exporter": "python",
   "pygments_lexer": "ipython3",
   "version": "3.6.7"
  }
 },
 "nbformat": 4,
 "nbformat_minor": 2
}
