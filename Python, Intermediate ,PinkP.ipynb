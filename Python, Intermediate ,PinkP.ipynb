{
 "cells": [
  {
   "cell_type": "markdown",
   "metadata": {},
   "source": [
    "#pyhton for data analyses "
   ]
  },
  {
   "cell_type": "code",
   "execution_count": null,
   "metadata": {},
   "outputs": [],
   "source": [
    "#Data Types: Integers, Floats, Booleans, Strings\n",
    "1\n",
    "1.08\n",
    "True\n",
    "\"Farnaz\""
   ]
  },
  {
   "cell_type": "markdown",
   "metadata": {},
   "source": [
    "#Data structures: \n",
    "1)Lists, \n",
    "2)Tuples, \n",
    "3)sets, \n",
    "4)Dictionaries\n",
    "\n",
    "Lists! Data structures are containers that organize and group data types together in different ways. A list is one of the most common and basic data structures in Python."
   ]
  },
  {
   "cell_type": "code",
   "execution_count": null,
   "metadata": {},
   "outputs": [],
   "source": [
    "list_of_random_things = [1, 3.4, 'a string', True]"
   ]
  },
  {
   "cell_type": "markdown",
   "metadata": {},
   "source": [
    "list Comprehension list_plus_one = [1+i for i in [1,2,3,4]]\n",
    "x = [1+i for i in range(10)] only returns a list! should be used when we use for loops to create a new list"
   ]
  },
  {
   "cell_type": "code",
   "execution_count": null,
   "metadata": {},
   "outputs": [],
   "source": [
    "#List Comprehensions\n",
    "\n",
    "list_plus_one = [1+i for i in [1,2,3,4]]\n",
    "\n",
    "new_names = [name.lower().replace(\" \", \"_\") for name in names]\n",
    "print(names)"
   ]
  },
  {
   "cell_type": "code",
   "execution_count": 82,
   "metadata": {},
   "outputs": [],
   "source": [
    "#pandas packages\n",
    "import pandas as pd\n"
   ]
  },
  {
   "cell_type": "code",
   "execution_count": 97,
   "metadata": {},
   "outputs": [],
   "source": [
    "#how to read a csv file?\n",
    "#df stands for dataframe\n",
    "\n",
    "df = pd.read_csv('final_PINK2.csv')"
   ]
  },
  {
   "cell_type": "code",
   "execution_count": 98,
   "metadata": {},
   "outputs": [
    {
     "data": {
      "text/html": [
       "<div>\n",
       "<style scoped>\n",
       "    .dataframe tbody tr th:only-of-type {\n",
       "        vertical-align: middle;\n",
       "    }\n",
       "\n",
       "    .dataframe tbody tr th {\n",
       "        vertical-align: top;\n",
       "    }\n",
       "\n",
       "    .dataframe thead th {\n",
       "        text-align: right;\n",
       "    }\n",
       "</style>\n",
       "<table border=\"1\" class=\"dataframe\">\n",
       "  <thead>\n",
       "    <tr style=\"text-align: right;\">\n",
       "      <th></th>\n",
       "      <th>Unnamed: 0</th>\n",
       "      <th>country_id</th>\n",
       "      <th>traffic_source_level_1</th>\n",
       "      <th>timestamp_month</th>\n",
       "      <th>SEK_IN_FOOD</th>\n",
       "      <th>SEK_IN_DRINKS</th>\n",
       "      <th>SEK_IN_SNACKS</th>\n",
       "    </tr>\n",
       "  </thead>\n",
       "  <tbody>\n",
       "    <tr>\n",
       "      <th>0</th>\n",
       "      <td>0</td>\n",
       "      <td>BR</td>\n",
       "      <td>direct</td>\n",
       "      <td>2019-01-01</td>\n",
       "      <td>306,0</td>\n",
       "      <td>274.816132</td>\n",
       "      <td>612.0</td>\n",
       "    </tr>\n",
       "    <tr>\n",
       "      <th>1</th>\n",
       "      <td>1</td>\n",
       "      <td>BR</td>\n",
       "      <td>direct</td>\n",
       "      <td>2019-02-01</td>\n",
       "      <td>158,0</td>\n",
       "      <td>141.898526</td>\n",
       "      <td>316.0</td>\n",
       "    </tr>\n",
       "    <tr>\n",
       "      <th>2</th>\n",
       "      <td>2</td>\n",
       "      <td>BR</td>\n",
       "      <td>direct</td>\n",
       "      <td>2019-03-01</td>\n",
       "      <td>169,0</td>\n",
       "      <td>151.777537</td>\n",
       "      <td>338.0</td>\n",
       "    </tr>\n",
       "    <tr>\n",
       "      <th>3</th>\n",
       "      <td>3</td>\n",
       "      <td>BR</td>\n",
       "      <td>direct</td>\n",
       "      <td>2019-04-01</td>\n",
       "      <td>193,0</td>\n",
       "      <td>173.331743</td>\n",
       "      <td>386.0</td>\n",
       "    </tr>\n",
       "    <tr>\n",
       "      <th>4</th>\n",
       "      <td>4</td>\n",
       "      <td>BR</td>\n",
       "      <td>direct</td>\n",
       "      <td>2019-05-01</td>\n",
       "      <td>212,0</td>\n",
       "      <td>190.395490</td>\n",
       "      <td>424.0</td>\n",
       "    </tr>\n",
       "  </tbody>\n",
       "</table>\n",
       "</div>"
      ],
      "text/plain": [
       "   Unnamed: 0 country_id traffic_source_level_1 timestamp_month SEK_IN_FOOD  \\\n",
       "0           0         BR                 direct      2019-01-01       306,0   \n",
       "1           1         BR                 direct      2019-02-01       158,0   \n",
       "2           2         BR                 direct      2019-03-01       169,0   \n",
       "3           3         BR                 direct      2019-04-01       193,0   \n",
       "4           4         BR                 direct      2019-05-01       212,0   \n",
       "\n",
       "   SEK_IN_DRINKS  SEK_IN_SNACKS  \n",
       "0     274.816132          612.0  \n",
       "1     141.898526          316.0  \n",
       "2     151.777537          338.0  \n",
       "3     173.331743          386.0  \n",
       "4     190.395490          424.0  "
      ]
     },
     "execution_count": 98,
     "metadata": {},
     "output_type": "execute_result"
    }
   ],
   "source": [
    "df.head()"
   ]
  },
  {
   "cell_type": "code",
   "execution_count": 84,
   "metadata": {},
   "outputs": [
    {
     "data": {
      "text/plain": [
       "Index(['Unnamed: 0', 'country_id', 'traffic_source_level_1', 'timestamp_month',\n",
       "       'SEK_IN_FOOD', 'SEK_IN_DRINKS', 'SEK_IN_SNACKS'],\n",
       "      dtype='object')"
      ]
     },
     "execution_count": 84,
     "metadata": {},
     "output_type": "execute_result"
    }
   ],
   "source": [
    "df.tail()\n",
    "df.columns"
   ]
  },
  {
   "cell_type": "code",
   "execution_count": null,
   "metadata": {},
   "outputs": [],
   "source": [
    "#how to create a new csv file and write on that csv file \n",
    "#df.to_csv('/Users/farnaz.motamediyan/python-Pink/final_PINK2.csv', header=True)"
   ]
  },
  {
   "cell_type": "code",
   "execution_count": 76,
   "metadata": {},
   "outputs": [],
   "source": [
    "#df['SEK_IN_FOOD'] = [str(df['SEK_IN_FOOD'][i]) for i in range(len(df['SEK_IN_FOOD']))]\n",
    "#df['SEK_IN_FOOD'] = [df['SEK_IN_FOOD'][i].replace(\".\", \",\") for i in range(len(df['SEK_IN_FOOD']))]\n",
    "#new = df.to_csv('/Users/farnaz.motamediyan/python-Pink/final_PINK2.csv', header=True)"
   ]
  },
  {
   "cell_type": "code",
   "execution_count": 52,
   "metadata": {},
   "outputs": [
    {
     "data": {
      "text/plain": [
       "'direct'"
      ]
     },
     "execution_count": 52,
     "metadata": {},
     "output_type": "execute_result"
    }
   ],
   "source": [
    "df['SEK_IN_SNACKS']\n",
    "\n",
    "df['SEK_IN_SNACKS'][0]\n",
    "\n",
    "type(df['SEK_IN_SNACKS'][1])\n"
   ]
  },
  {
   "cell_type": "code",
   "execution_count": null,
   "metadata": {},
   "outputs": [],
   "source": [
    "df['traffic_source_level_1'][10]"
   ]
  },
  {
   "cell_type": "code",
   "execution_count": null,
   "metadata": {},
   "outputs": [],
   "source": [
    "#we can choose only a few columns of a dataframe\n",
    "df[['country_id','traffic_source_level_1','SEK_IN_DRINKS']].head()"
   ]
  },
  {
   "cell_type": "markdown",
   "metadata": {},
   "source": [
    "quiz to solve together:\n",
    "I need to get the sum of SEK_IN_SNACKS group by countries and 'traffic_source_level_1' I need to create it in a way that it has countries, and then channels and then the sum of kycs\n"
   ]
  },
  {
   "cell_type": "code",
   "execution_count": 92,
   "metadata": {},
   "outputs": [
    {
     "data": {
      "text/plain": [
       "country_id  traffic_source_level_1\n",
       "BR          direct                      5552.00\n",
       "            online                    235906.00\n",
       "            partnerships               37280.00\n",
       "DE          direct                      5731.38\n",
       "            online                    105732.84\n",
       "            partnerships                1332.26\n",
       "DK          direct                       844.32\n",
       "            online                     36942.00\n",
       "            partnerships                 144.12\n",
       "ES          direct                       226.00\n",
       "            online                     20984.24\n",
       "            partnerships                 662.00\n",
       "FI          direct                       647.46\n",
       "            online                     72266.64\n",
       "            partnerships                 183.44\n",
       "FR          direct                      2331.30\n",
       "            online                    143392.70\n",
       "            partnerships                2589.50\n",
       "GB          direct                      8874.42\n",
       "            online                    608325.20\n",
       "            partnerships                7276.62\n",
       "IT          direct                       322.00\n",
       "            online                      9651.82\n",
       "            partnerships                 414.00\n",
       "MX          direct                     21658.12\n",
       "            online                    369449.96\n",
       "            partnerships               73659.74\n",
       "NL          direct                      3178.18\n",
       "            online                    144893.84\n",
       "            partnerships                2322.18\n",
       "NO          direct                       897.46\n",
       "            online                     94378.78\n",
       "            partnerships                2170.12\n",
       "SE          direct                      2220.06\n",
       "            online                    103417.52\n",
       "            partnerships                 371.44\n",
       "Name: SEK_IN_SNACKS, dtype: float64"
      ]
     },
     "execution_count": 92,
     "metadata": {},
     "output_type": "execute_result"
    }
   ],
   "source": [
    "df.groupby(['country_id','traffic_source_level_1' ])['SEK_IN_SNACKS'].sum()"
   ]
  },
  {
   "cell_type": "markdown",
   "metadata": {},
   "source": [
    "now, same exercise with SEK_IN_FOOD. what is odd about it? do you know why? lets try and see the type for SEK_IN_FOOD:\n",
    "type(df['SEK_IN_FOOD'][0]) it is stgring, but we wanted it to be integer or float. a sort of number. so now what?"
   ]
  },
  {
   "cell_type": "code",
   "execution_count": 94,
   "metadata": {},
   "outputs": [
    {
     "data": {
      "text/html": [
       "<div>\n",
       "<style scoped>\n",
       "    .dataframe tbody tr th:only-of-type {\n",
       "        vertical-align: middle;\n",
       "    }\n",
       "\n",
       "    .dataframe tbody tr th {\n",
       "        vertical-align: top;\n",
       "    }\n",
       "\n",
       "    .dataframe thead th {\n",
       "        text-align: right;\n",
       "    }\n",
       "</style>\n",
       "<table border=\"1\" class=\"dataframe\">\n",
       "  <thead>\n",
       "    <tr style=\"text-align: right;\">\n",
       "      <th></th>\n",
       "      <th>Unnamed: 0</th>\n",
       "      <th>SEK_IN_FOOD</th>\n",
       "      <th>SEK_IN_DRINKS</th>\n",
       "      <th>SEK_IN_SNACKS</th>\n",
       "    </tr>\n",
       "    <tr>\n",
       "      <th>country_id</th>\n",
       "      <th></th>\n",
       "      <th></th>\n",
       "      <th></th>\n",
       "      <th></th>\n",
       "    </tr>\n",
       "  </thead>\n",
       "  <tbody>\n",
       "    <tr>\n",
       "      <th>BR</th>\n",
       "      <td>17.5</td>\n",
       "      <td>3871.361111</td>\n",
       "      <td>1968.370465</td>\n",
       "      <td>7742.722222</td>\n",
       "    </tr>\n",
       "    <tr>\n",
       "      <th>DE</th>\n",
       "      <td>251.5</td>\n",
       "      <td>783.308889</td>\n",
       "      <td>293.150796</td>\n",
       "      <td>1566.617778</td>\n",
       "    </tr>\n",
       "    <tr>\n",
       "      <th>DK</th>\n",
       "      <td>287.5</td>\n",
       "      <td>263.405833</td>\n",
       "      <td>107.323119</td>\n",
       "      <td>526.811667</td>\n",
       "    </tr>\n",
       "    <tr>\n",
       "      <th>ES</th>\n",
       "      <td>323.5</td>\n",
       "      <td>151.890556</td>\n",
       "      <td>28.500959</td>\n",
       "      <td>303.781111</td>\n",
       "    </tr>\n",
       "    <tr>\n",
       "      <th>FI</th>\n",
       "      <td>359.5</td>\n",
       "      <td>507.621806</td>\n",
       "      <td>282.729144</td>\n",
       "      <td>1015.243611</td>\n",
       "    </tr>\n",
       "    <tr>\n",
       "      <th>FR</th>\n",
       "      <td>395.5</td>\n",
       "      <td>1029.954861</td>\n",
       "      <td>540.368616</td>\n",
       "      <td>2059.909722</td>\n",
       "    </tr>\n",
       "    <tr>\n",
       "      <th>GB</th>\n",
       "      <td>431.5</td>\n",
       "      <td>4336.640556</td>\n",
       "      <td>2971.292474</td>\n",
       "      <td>8673.281111</td>\n",
       "    </tr>\n",
       "    <tr>\n",
       "      <th>IT</th>\n",
       "      <td>467.5</td>\n",
       "      <td>72.137639</td>\n",
       "      <td>19.513010</td>\n",
       "      <td>144.275278</td>\n",
       "    </tr>\n",
       "    <tr>\n",
       "      <th>MX</th>\n",
       "      <td>503.5</td>\n",
       "      <td>3227.554306</td>\n",
       "      <td>2121.748510</td>\n",
       "      <td>6455.108611</td>\n",
       "    </tr>\n",
       "    <tr>\n",
       "      <th>NL</th>\n",
       "      <td>539.5</td>\n",
       "      <td>1044.404167</td>\n",
       "      <td>499.378421</td>\n",
       "      <td>2088.808333</td>\n",
       "    </tr>\n",
       "    <tr>\n",
       "      <th>NO</th>\n",
       "      <td>575.5</td>\n",
       "      <td>676.710833</td>\n",
       "      <td>315.121277</td>\n",
       "      <td>1353.421667</td>\n",
       "    </tr>\n",
       "    <tr>\n",
       "      <th>SE</th>\n",
       "      <td>611.5</td>\n",
       "      <td>736.173750</td>\n",
       "      <td>304.503832</td>\n",
       "      <td>1472.347500</td>\n",
       "    </tr>\n",
       "  </tbody>\n",
       "</table>\n",
       "</div>"
      ],
      "text/plain": [
       "            Unnamed: 0  SEK_IN_FOOD  SEK_IN_DRINKS  SEK_IN_SNACKS\n",
       "country_id                                                       \n",
       "BR                17.5  3871.361111    1968.370465    7742.722222\n",
       "DE               251.5   783.308889     293.150796    1566.617778\n",
       "DK               287.5   263.405833     107.323119     526.811667\n",
       "ES               323.5   151.890556      28.500959     303.781111\n",
       "FI               359.5   507.621806     282.729144    1015.243611\n",
       "FR               395.5  1029.954861     540.368616    2059.909722\n",
       "GB               431.5  4336.640556    2971.292474    8673.281111\n",
       "IT               467.5    72.137639      19.513010     144.275278\n",
       "MX               503.5  3227.554306    2121.748510    6455.108611\n",
       "NL               539.5  1044.404167     499.378421    2088.808333\n",
       "NO               575.5   676.710833     315.121277    1353.421667\n",
       "SE               611.5   736.173750     304.503832    1472.347500"
      ]
     },
     "execution_count": 94,
     "metadata": {},
     "output_type": "execute_result"
    }
   ],
   "source": [
    "#group by country and then return an average of values in each column with numeric data\n",
    "df.groupby(['country_id']).mean()\n",
    "\n"
   ]
  },
  {
   "cell_type": "code",
   "execution_count": 99,
   "metadata": {},
   "outputs": [
    {
     "data": {
      "text/plain": [
       "country_id\n",
       "BR    306,0158,0169,0193,0212,0211,0183,0204,0263,03...\n",
       "DE    94,02340,033,053,02044,020,076,02583,021,039,0...\n",
       "DK    14,014,011,010,08,05,08,06,038,043,039,015,058...\n",
       "ES    11,03,02,01,02,08,00,02,032,017,021,014,0438,0...\n",
       "FI    0,08,03,010,08,05,03,04,015,015,011,02,01326,0...\n",
       "FR    4,07,014,033,05,03,01,00,013,060,025,03,03357,...\n",
       "GB    128,0156,0158,0175,0109,0141,0210,085,0230,032...\n",
       "IT    8,013,04,04,02,00,02,00,049,030,039,010,0188,0...\n",
       "MX    265,0421,0459,0372,0482,0381,0473,0655,0614,06...\n",
       "NL    58,059,0409,088,0115,062,040,058,045,074,0114,...\n",
       "NO    13,010,010,014,011,019,08,019,065,077,052,029,...\n",
       "SE    37,023,021,035,039,045,017,026,0138,0152,0159,...\n",
       "Name: SEK_IN_FOOD, dtype: object"
      ]
     },
     "execution_count": 99,
     "metadata": {},
     "output_type": "execute_result"
    }
   ],
   "source": [
    "##group by country and then return an sum of values only in SEK_IN_FOOD\n",
    "df.groupby(['country_id'])['SEK_IN_FOOD'].sum()"
   ]
  },
  {
   "cell_type": "code",
   "execution_count": 100,
   "metadata": {},
   "outputs": [
    {
     "data": {
      "text/plain": [
       "828"
      ]
     },
     "execution_count": 100,
     "metadata": {},
     "output_type": "execute_result"
    }
   ],
   "source": [
    "df['SEK_IN_FOOD'][0]\n",
    "\n",
    "\n",
    "type(df['SEK_IN_FOOD'][0])\n",
    "\n",
    "\n",
    "df['SEK_IN_FOOD'][0].replace(\",\", \".\")\n",
    "\n",
    "\n",
    "len(df['SEK_IN_FOOD'])"
   ]
  },
  {
   "cell_type": "markdown",
   "metadata": {},
   "source": [
    "we replaced one of the elements, but we need to change the whole dataset. lets be more fancy, instead of a for loop we will use list Comprehension\n"
   ]
  },
  {
   "cell_type": "code",
   "execution_count": 86,
   "metadata": {},
   "outputs": [],
   "source": [
    "df['SEK_IN_FOOD'] = [df['SEK_IN_FOOD'][i].replace(\",\", \".\") for i in range(len(df['SEK_IN_FOOD']))]"
   ]
  },
  {
   "cell_type": "code",
   "execution_count": 87,
   "metadata": {},
   "outputs": [],
   "source": [
    "#pandas.Series.astype\n",
    "\n",
    "df['SEK_IN_FOOD'] = df['SEK_IN_FOOD'].astype(float)\n",
    "\n",
    "x = df[['country_id','timestamp_month','traffic_source_level_1','SEK_IN_FOOD']].groupby(['country_id','traffic_source_level_1' ])['SEK_IN_FOOD'].sum()"
   ]
  },
  {
   "cell_type": "code",
   "execution_count": 88,
   "metadata": {},
   "outputs": [
    {
     "data": {
      "text/plain": [
       "pandas.core.series.Series"
      ]
     },
     "execution_count": 88,
     "metadata": {},
     "output_type": "execute_result"
    }
   ],
   "source": [
    "x.loc['BR']\n",
    "type(x)"
   ]
  },
  {
   "cell_type": "code",
   "execution_count": 89,
   "metadata": {},
   "outputs": [],
   "source": [
    "df_sum = df[['country_id','timestamp_month','traffic_source_level_1','SEK_IN_FOOD','SEK_IN_SNACKS']].groupby(['country_id','traffic_source_level_1' ])['SEK_IN_FOOD','SEK_IN_SNACKS'].sum()"
   ]
  },
  {
   "cell_type": "code",
   "execution_count": 91,
   "metadata": {},
   "outputs": [],
   "source": [
    "#let's create a a new column and calculate the rate of snacks over food\n",
    "df_sum['food_snacks_rate'] = df_sum['SEK_IN_FOOD']/df_sum['SEK_IN_SNACKS']"
   ]
  },
  {
   "cell_type": "code",
   "execution_count": 90,
   "metadata": {},
   "outputs": [
    {
     "data": {
      "text/html": [
       "<div>\n",
       "<style scoped>\n",
       "    .dataframe tbody tr th:only-of-type {\n",
       "        vertical-align: middle;\n",
       "    }\n",
       "\n",
       "    .dataframe tbody tr th {\n",
       "        vertical-align: top;\n",
       "    }\n",
       "\n",
       "    .dataframe thead th {\n",
       "        text-align: right;\n",
       "    }\n",
       "</style>\n",
       "<table border=\"1\" class=\"dataframe\">\n",
       "  <thead>\n",
       "    <tr style=\"text-align: right;\">\n",
       "      <th></th>\n",
       "      <th>country_id</th>\n",
       "    </tr>\n",
       "  </thead>\n",
       "  <tbody>\n",
       "    <tr>\n",
       "      <th>0</th>\n",
       "      <td>BR</td>\n",
       "    </tr>\n",
       "    <tr>\n",
       "      <th>1</th>\n",
       "      <td>BR</td>\n",
       "    </tr>\n",
       "    <tr>\n",
       "      <th>2</th>\n",
       "      <td>BR</td>\n",
       "    </tr>\n",
       "    <tr>\n",
       "      <th>3</th>\n",
       "      <td>BR</td>\n",
       "    </tr>\n",
       "    <tr>\n",
       "      <th>4</th>\n",
       "      <td>BR</td>\n",
       "    </tr>\n",
       "    <tr>\n",
       "      <th>5</th>\n",
       "      <td>BR</td>\n",
       "    </tr>\n",
       "    <tr>\n",
       "      <th>6</th>\n",
       "      <td>BR</td>\n",
       "    </tr>\n",
       "    <tr>\n",
       "      <th>7</th>\n",
       "      <td>BR</td>\n",
       "    </tr>\n",
       "    <tr>\n",
       "      <th>8</th>\n",
       "      <td>BR</td>\n",
       "    </tr>\n",
       "    <tr>\n",
       "      <th>9</th>\n",
       "      <td>BR</td>\n",
       "    </tr>\n",
       "    <tr>\n",
       "      <th>10</th>\n",
       "      <td>BR</td>\n",
       "    </tr>\n",
       "  </tbody>\n",
       "</table>\n",
       "</div>"
      ],
      "text/plain": [
       "   country_id\n",
       "0          BR\n",
       "1          BR\n",
       "2          BR\n",
       "3          BR\n",
       "4          BR\n",
       "5          BR\n",
       "6          BR\n",
       "7          BR\n",
       "8          BR\n",
       "9          BR\n",
       "10         BR"
      ]
     },
     "execution_count": 90,
     "metadata": {},
     "output_type": "execute_result"
    }
   ],
   "source": [
    "#df.loc() \n",
    "#Purely label-location based indexer for selection by label.\n",
    "df_sum.loc['DE']\n",
    "\n",
    "df.loc[:10,['country_id']]"
   ]
  },
  {
   "cell_type": "code",
   "execution_count": 27,
   "metadata": {},
   "outputs": [
    {
     "data": {
      "image/png": "[encoded data removed]",
      "text/plain": [
       "<Figure size 432x288 with 1 Axes>"
      ]
     },
     "metadata": {
      "needs_background": "light"
     },
     "output_type": "display_data"
    }
   ],
   "source": [
    "from matplotlib import pyplot as plt\n",
    "\n",
    "x_input = [1,2,3,4,5,6,7]\n",
    "y_output = [2,4,6,8,10,12,14]\n",
    "\n",
    "\n",
    "plt.plot(x_input,y_output)\n",
    "plt.show()"
   ]
  },
  {
   "cell_type": "markdown",
   "metadata": {},
   "source": [
    "Regressions, intro to ML\n",
    "y(X) = a * X + b"
   ]
  },
  {
   "cell_type": "code",
   "execution_count": 11,
   "metadata": {},
   "outputs": [],
   "source": [
    "#sklearn regression\n",
    "import numpy as np\n",
    "from sklearn import linear_model\n",
    "clf = linear_model.LinearRegression()\n"
   ]
  },
  {
   "cell_type": "code",
   "execution_count": null,
   "metadata": {},
   "outputs": [],
   "source": [
    "x_input = np.reshape(x_input,(-1, 1))"
   ]
  },
  {
   "cell_type": "code",
   "execution_count": 12,
   "metadata": {},
   "outputs": [
    {
     "data": {
      "text/plain": [
       "array([2.])"
      ]
     },
     "execution_count": 12,
     "metadata": {},
     "output_type": "execute_result"
    }
   ],
   "source": [
    "clf.fit(x_input,y_output)"
   ]
  },
  {
   "cell_type": "code",
   "execution_count": null,
   "metadata": {},
   "outputs": [],
   "source": [
    "#slope or coeficient\n",
    "clf.coef_"
   ]
  },
  {
   "cell_type": "code",
   "execution_count": 56,
   "metadata": {},
   "outputs": [
    {
     "data": {
      "image/png": "[encoded data removed]",
      "text/plain": [
       "<Figure size 432x288 with 1 Axes>"
      ]
     },
     "metadata": {
      "needs_background": "light"
     },
     "output_type": "display_data"
    }
   ],
   "source": [
    "x1 = df[['SEK_IN_FOOD']].values\n",
    "y1 = df[['SEK_IN_SNACKS']].values\n",
    "plt.plot(x1,y1)\n",
    "plt.show()"
   ]
  },
  {
   "cell_type": "code",
   "execution_count": 57,
   "metadata": {},
   "outputs": [
    {
     "data": {
      "text/plain": [
       "LinearRegression(copy_X=True, fit_intercept=True, n_jobs=None,\n",
       "         normalize=False)"
      ]
     },
     "execution_count": 57,
     "metadata": {},
     "output_type": "execute_result"
    }
   ],
   "source": [
    "x = np.reshape(x,(-1, 1))\n",
    "clf.fit(x1,y1)"
   ]
  },
  {
   "cell_type": "code",
   "execution_count": 58,
   "metadata": {},
   "outputs": [
    {
     "data": {
      "text/plain": [
       "array([[2.]])"
      ]
     },
     "execution_count": 58,
     "metadata": {},
     "output_type": "execute_result"
    }
   ],
   "source": [
    "clf.coef_"
   ]
  },
  {
   "cell_type": "code",
   "execution_count": 61,
   "metadata": {},
   "outputs": [
    {
     "data": {
      "text/plain": [
       "array([[5110.]])"
      ]
     },
     "execution_count": 61,
     "metadata": {},
     "output_type": "execute_result"
    }
   ],
   "source": [
    "reg = linear_model.LinearRegression().fit(x1,y1)\n",
    "reg.predict(np.array([[2555,]]))"
   ]
  },
  {
   "cell_type": "code",
   "execution_count": null,
   "metadata": {},
   "outputs": [],
   "source": []
  }
 ],
 "metadata": {
  "kernelspec": {
   "display_name": "Python 3",
   "language": "python",
   "name": "python3"
  },
  "language_info": {
   "codemirror_mode": {
    "name": "ipython",
    "version": 3
   },
   "file_extension": ".py",
   "mimetype": "text/x-python",
   "name": "python",
   "nbconvert_exporter": "python",
   "pygments_lexer": "ipython3",
   "version": "3.6.7"
  }
 },
 "nbformat": 4,
 "nbformat_minor": 2
}
